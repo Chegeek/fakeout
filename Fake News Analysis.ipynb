{
 "cells": [
  {
   "cell_type": "code",
   "execution_count": 1,
   "metadata": {},
   "outputs": [
    {
     "data": {
      "text/html": [
       "<style>.container { width:98% !important; }</style>"
      ],
      "text/plain": [
       "<IPython.core.display.HTML object>"
      ]
     },
     "metadata": {},
     "output_type": "display_data"
    }
   ],
   "source": [
    "import pandas as pd\n",
    "import numpy as np\n",
    "import spacy\n",
    "import scattertext as st\n",
    "#import imp; imp.reload(st)\n",
    "from IPython.display import IFrame\n",
    "from IPython.core.display import display, HTML\n",
    "display(HTML(\"<style>.container { width:98% !important; }</style>\"))\n",
    "import pickle\n",
    "from nltk.corpus import reuters\n",
    "%matplotlib inline  "
   ]
  },
  {
   "cell_type": "code",
   "execution_count": 2,
   "metadata": {
    "collapsed": true
   },
   "outputs": [],
   "source": [
    "nlp = spacy.en.English()"
   ]
  },
  {
   "cell_type": "code",
   "execution_count": 3,
   "metadata": {
    "collapsed": true
   },
   "outputs": [],
   "source": [
    "uci_df = pd.read_csv('data/uci-news-aggregator.csv.gz')"
   ]
  },
  {
   "cell_type": "code",
   "execution_count": 4,
   "metadata": {
    "collapsed": true
   },
   "outputs": [],
   "source": [
    "traditional_publishers = ['Forbes','Bloomberg','Los Angeles Times','TIME','Wall Street Journal']\n",
    "repubable_celebrity_gossip = ['TheCelebrityCafe.com', 'PerezHilton.com']"
   ]
  },
  {
   "cell_type": "code",
   "execution_count": 5,
   "metadata": {
    "collapsed": true
   },
   "outputs": [],
   "source": [
    "real_df = uci_df[uci_df['PUBLISHER'].isin(traditional_publishers)]\n",
    "real_df.columns = [x.lower() for x in real_df.columns]\n",
    "real_df['type'] = 'traditional'"
   ]
  },
  {
   "cell_type": "code",
   "execution_count": 6,
   "metadata": {},
   "outputs": [],
   "source": [
    "df = pd.read_csv('data/fake.csv.gz')\n",
    "df = df.append(real_df)\n",
    "df = df[df['title'].apply(lambda x: type(x) == str)]\n",
    "df['clean_title'] = df['title'].apply(lambda x: ' '.join(x.split('»')[0].split('>>')[0].split('[')[0].split('(')[0].split('|')[0].strip().split()))\n",
    "df = df.ix[df['clean_title'].drop_duplicates().index]\n",
    "df['parsed_title'] = df['clean_title'].apply(nlp)"
   ]
  },
  {
   "cell_type": "code",
   "execution_count": 7,
   "metadata": {
    "collapsed": true
   },
   "outputs": [],
   "source": [
    "df['meta'] = df['author'].fillna('') + df['publisher'].fillna('') + ' ' + df['site_url'].fillna('')\n",
    "df['category'] = df['type'].apply(lambda x: 'Real' if x == 'traditional' else 'Fake')"
   ]
  },
  {
   "cell_type": "code",
   "execution_count": 8,
   "metadata": {
    "collapsed": true
   },
   "outputs": [],
   "source": [
    "fake_df = df[df['category'] == 'Fake']"
   ]
  },
  {
   "cell_type": "code",
   "execution_count": 9,
   "metadata": {},
   "outputs": [
    {
     "data": {
      "text/plain": [
       "bs            10596\n",
       "conspiracy      358\n",
       "bias            321\n",
       "hate            246\n",
       "satire          148\n",
       "state           118\n",
       "junksci         105\n",
       "fake             19\n",
       "Name: type, dtype: int64"
      ]
     },
     "execution_count": 9,
     "metadata": {},
     "output_type": "execute_result"
    }
   ],
   "source": [
    "fake_df.type.value_counts()"
   ]
  },
  {
   "cell_type": "code",
   "execution_count": 17,
   "metadata": {},
   "outputs": [],
   "source": [
    "def news_type_viz(fake_df, news_type, minimum_term_frequency=1, minimum_not_category_term_frequency=5, comparison_types=None, stoplist = []):\n",
    "    type_df = fake_df\n",
    "    if comparison_types is not None:\n",
    "        type_df = type_df[type_df['type'].isin(comparison_types + [news_type])]\n",
    "    type_df['news_type'] = type_df['type'].apply(lambda x: news_type if (x == news_type) else ('not ' + news_type))\n",
    "    vc = type_df['clean_title'].value_counts()\n",
    "    type_df = type_df[type_df['clean_title'].isin(vc[vc == 1].index)]\n",
    "    corpus = (st.CorpusFromParsedDocuments(type_df, \n",
    "                                           category_col = 'news_type', \n",
    "                                           parsed_col = 'parsed_title', \n",
    "                                           feats_from_spacy_doc = st.FeatsFromSpacyDoc(strip_final_period=True))\n",
    "              .build()\n",
    "              .get_stoplisted_unigram_corpus_and_custom(stoplist))\n",
    "    # entity_types_to_censor={'FACILITY', 'NORP', 'GPE', 'PERSON', 'WORK_OF_ART', 'LOC', 'EVENT', 'LANGUAGE', 'ORG', 'PRODUCT'}\n",
    "    html = st.produce_scattertext_explorer(corpus, \n",
    "                                           category=news_type, \n",
    "                                           category_name=news_type, \n",
    "                                           not_category_name='not ' + news_type,\n",
    "                                           minimum_term_frequency=minimum_term_frequency,\n",
    "                                           minimum_not_category_term_frequency=minimum_not_category_term_frequency,\n",
    "                                           metadata=type_df['meta'],\n",
    "                                           use_full_doc=True,\n",
    "                                           term_ranker=st.termranking.OncePerDocFrequencyRanker,\n",
    "                                           width_in_pixels=1000)\n",
    "    file_name = news_type + \".html\"\n",
    "    open(file_name, 'wb').write(html.encode('utf-8'))\n",
    "    display(IFrame(src=file_name, width = 1200, height=1000))"
   ]
  },
  {
   "cell_type": "code",
   "execution_count": 19,
   "metadata": {},
   "outputs": [
    {
     "data": {
      "text/html": [
       "\n",
       "        <iframe\n",
       "            width=\"1200\"\n",
       "            height=\"1000\"\n",
       "            src=\"hate.html\"\n",
       "            frameborder=\"0\"\n",
       "            allowfullscreen\n",
       "        ></iframe>\n",
       "        "
      ],
      "text/plain": [
       "<IPython.lib.display.IFrame at 0x120825978>"
      ]
     },
     "metadata": {},
     "output_type": "display_data"
    }
   ],
   "source": [
    "news_type_viz(fake_df, 'hate', minimum_term_frequency=1, minimum_not_category_term_frequency=20, comparison_types=None, \n",
    "              stoplist=['dankof','collett','duke','anglin','shoaf','slattery','farren'])"
   ]
  },
  {
   "cell_type": "code",
   "execution_count": 24,
   "metadata": {},
   "outputs": [
    {
     "data": {
      "text/html": [
       "\n",
       "        <iframe\n",
       "            width=\"1200\"\n",
       "            height=\"1000\"\n",
       "            src=\"bias.html\"\n",
       "            frameborder=\"0\"\n",
       "            allowfullscreen\n",
       "        ></iframe>\n",
       "        "
      ],
      "text/plain": [
       "<IPython.lib.display.IFrame at 0x1ca09eef0>"
      ]
     },
     "metadata": {},
     "output_type": "display_data"
    }
   ],
   "source": [
    "news_type_viz(fake_df, 'bias', minimum_term_frequency=1, minimum_not_category_term_frequency=20, comparison_types=None, \n",
    "              stoplist=['dankof','collett','duke','anglin','shoaf','slattery','farren','shapiro','ben'])"
   ]
  },
  {
   "cell_type": "code",
   "execution_count": 26,
   "metadata": {},
   "outputs": [
    {
     "data": {
      "text/html": [
       "\n",
       "        <iframe\n",
       "            width=\"1200\"\n",
       "            height=\"1000\"\n",
       "            src=\"satire.html\"\n",
       "            frameborder=\"0\"\n",
       "            allowfullscreen\n",
       "        ></iframe>\n",
       "        "
      ],
      "text/plain": [
       "<IPython.lib.display.IFrame at 0x12253abe0>"
      ]
     },
     "metadata": {},
     "output_type": "display_data"
    }
   ],
   "source": [
    "news_type_viz(fake_df, 'satire', minimum_term_frequency=2, minimum_not_category_term_frequency=20, comparison_types=None, \n",
    "              stoplist=['dankof','collett','duke','anglin','shoaf','slattery','farren','shapiro','ben','onion'])"
   ]
  },
  {
   "cell_type": "code",
   "execution_count": 36,
   "metadata": {},
   "outputs": [
    {
     "data": {
      "text/html": [
       "\n",
       "        <iframe\n",
       "            width=\"1200\"\n",
       "            height=\"1000\"\n",
       "            src=\"state.html\"\n",
       "            frameborder=\"0\"\n",
       "            allowfullscreen\n",
       "        ></iframe>\n",
       "        "
      ],
      "text/plain": [
       "<IPython.lib.display.IFrame at 0x1ca111a90>"
      ]
     },
     "metadata": {},
     "output_type": "display_data"
    }
   ],
   "source": [
    "news_type_viz(fake_df, 'state', minimum_term_frequency=2, minimum_not_category_term_frequency=20, comparison_types=None, \n",
    "              stoplist=['dankof','collett','duke','anglin','shoaf','slattery','farren','shapiro','ben','onion','presstv'])"
   ]
  },
  {
   "cell_type": "code",
   "execution_count": 33,
   "metadata": {},
   "outputs": [
    {
     "data": {
      "text/html": [
       "\n",
       "        <iframe\n",
       "            width=\"1200\"\n",
       "            height=\"1000\"\n",
       "            src=\"junksci.html\"\n",
       "            frameborder=\"0\"\n",
       "            allowfullscreen\n",
       "        ></iframe>\n",
       "        "
      ],
      "text/plain": [
       "<IPython.lib.display.IFrame at 0x1208259b0>"
      ]
     },
     "metadata": {},
     "output_type": "display_data"
    }
   ],
   "source": [
    "news_type_viz(fake_df, 'junksci', minimum_term_frequency=2, minimum_not_category_term_frequency=30, comparison_types=None, \n",
    "              stoplist=['dankof','collett','duke','anglin','shoaf','slattery','farren','shapiro','ben','onion'])"
   ]
  },
  {
   "cell_type": "code",
   "execution_count": 35,
   "metadata": {},
   "outputs": [
    {
     "data": {
      "text/html": [
       "\n",
       "        <iframe\n",
       "            width=\"1200\"\n",
       "            height=\"1000\"\n",
       "            src=\"fake.html\"\n",
       "            frameborder=\"0\"\n",
       "            allowfullscreen\n",
       "        ></iframe>\n",
       "        "
      ],
      "text/plain": [
       "<IPython.lib.display.IFrame at 0x120825a90>"
      ]
     },
     "metadata": {},
     "output_type": "display_data"
    }
   ],
   "source": [
    "news_type_viz(fake_df, 'fake', minimum_term_frequency=2, minimum_not_category_term_frequency=50, comparison_types=None, \n",
    "              stoplist=['dankof','collett','duke','anglin','shoaf','slattery','farren','shapiro','ben','onion'])"
   ]
  },
  {
   "cell_type": "code",
   "execution_count": null,
   "metadata": {
    "collapsed": true
   },
   "outputs": [],
   "source": []
  }
 ],
 "metadata": {
  "anaconda-cloud": {},
  "kernelspec": {
   "display_name": "Python [Root]",
   "language": "python",
   "name": "Python [Root]"
  },
  "language_info": {
   "codemirror_mode": {
    "name": "ipython",
    "version": 3
   },
   "file_extension": ".py",
   "mimetype": "text/x-python",
   "name": "python",
   "nbconvert_exporter": "python",
   "pygments_lexer": "ipython3",
   "version": "3.5.2"
  }
 },
 "nbformat": 4,
 "nbformat_minor": 2
}
